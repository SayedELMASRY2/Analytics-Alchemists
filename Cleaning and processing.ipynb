{
 "cells": [
  {
   "cell_type": "markdown",
   "metadata": {},
   "source": [
    "# **Import Libraries**"
   ]
  },
  {
   "cell_type": "code",
   "execution_count": null,
   "metadata": {},
   "outputs": [],
   "source": [
    "import pandas as pd "
   ]
  },
  {
   "cell_type": "markdown",
   "metadata": {},
   "source": [
    "# **Read Data**"
   ]
  },
  {
   "cell_type": "code",
   "execution_count": null,
   "metadata": {},
   "outputs": [],
   "source": [
    "# قراءة البيانات\n",
    "df = pd.read_csv(\"Road Accident Data.csv\")\n",
    "df"
   ]
  },
  {
   "cell_type": "markdown",
   "metadata": {},
   "source": [
    "# **Data Understanding**"
   ]
  },
  {
   "cell_type": "code",
   "execution_count": null,
   "metadata": {},
   "outputs": [],
   "source": [
    "# نظرة عامة على البيانات\n",
    "df.info()\n",
    "df.describe()\n"
   ]
  },
  {
   "cell_type": "code",
   "execution_count": null,
   "metadata": {},
   "outputs": [],
   "source": [
    "print(df.isnull().sum())\n"
   ]
  },
  {
   "cell_type": "markdown",
   "metadata": {},
   "source": [
    "## **عرض تكرار بعض الأعمدة لفهم القيم**\n"
   ]
  },
  {
   "cell_type": "code",
   "execution_count": null,
   "metadata": {},
   "outputs": [],
   "source": [
    "df['Junction_Control'].value_counts()"
   ]
  },
  {
   "cell_type": "code",
   "execution_count": null,
   "metadata": {},
   "outputs": [],
   "source": [
    "df['Junction_Detail'].value_counts()"
   ]
  },
  {
   "cell_type": "code",
   "execution_count": null,
   "metadata": {},
   "outputs": [],
   "source": [
    "df['Road_Surface_Conditions'].value_counts()"
   ]
  },
  {
   "cell_type": "code",
   "execution_count": null,
   "metadata": {},
   "outputs": [],
   "source": [
    "df['Road_Type'].value_counts()"
   ]
  },
  {
   "cell_type": "code",
   "execution_count": null,
   "metadata": {},
   "outputs": [],
   "source": [
    "df['Vehicle_Type'].value_counts()"
   ]
  },
  {
   "cell_type": "code",
   "execution_count": null,
   "metadata": {},
   "outputs": [],
   "source": [
    "df['Light_Conditions'].value_counts()"
   ]
  },
  {
   "cell_type": "code",
   "execution_count": null,
   "metadata": {},
   "outputs": [],
   "source": [
    "df['Carriageway_Hazards'].value_counts()"
   ]
  },
  {
   "cell_type": "code",
   "execution_count": null,
   "metadata": {},
   "outputs": [],
   "source": [
    "df['Weather_Conditions'].value_counts()"
   ]
  },
  {
   "cell_type": "code",
   "execution_count": null,
   "metadata": {},
   "outputs": [],
   "source": [
    "# تحويل التاريخ والوقت\n",
    "\n",
    "df['Accident Date'] = pd.to_datetime(df['Accident Date'])\n",
    "\n",
    "df['Time'] = pd.to_datetime(df['Time'], format='%H:%M', errors='coerce').dt.time\n"
   ]
  },
  {
   "cell_type": "markdown",
   "metadata": {},
   "source": [
    "# **Data Cleaning**"
   ]
  },
  {
   "cell_type": "code",
   "execution_count": null,
   "metadata": {},
   "outputs": [],
   "source": [
    "# إزالة التكرارات الكاملة\n",
    "df = df.drop_duplicates()\n"
   ]
  },
  {
   "cell_type": "markdown",
   "metadata": {},
   "source": [
    "## **Fill Nulls**"
   ]
  },
  {
   "cell_type": "code",
   "execution_count": null,
   "metadata": {},
   "outputs": [],
   "source": [
    "# ترتيب البيانات حسب التاريخ\n",
    "\n",
    "df = df.sort_values(by='Accident Date')\n",
    "df\n"
   ]
  },
  {
   "cell_type": "code",
   "execution_count": null,
   "metadata": {},
   "outputs": [],
   "source": [
    "# تعويض القيم المفقودة في الأعمدة\n",
    "# الطقس (تعبئة بالتتابع)\n",
    "\n",
    "df['Weather_Conditions'] = df['Weather_Conditions'].fillna(method='ffill')\n",
    "print(\"num of nulls :\", df['Weather_Conditions'].isnull().sum())\n"
   ]
  },
  {
   "cell_type": "code",
   "execution_count": null,
   "metadata": {},
   "outputs": [],
   "source": [
    "# الوقت (تعبئة بالقيمة الأكثر تكرارًا)\n",
    "\n",
    "most_common_time = df['Time'].mode()[0]\n",
    "df['Time'] = df['Time'].fillna(most_common_time)\n",
    "print(\"num of nulls :\", df['Time'].isnull().sum())"
   ]
  },
  {
   "cell_type": "code",
   "execution_count": null,
   "metadata": {},
   "outputs": [],
   "source": [
    "# نوع الطريق (تعبئة بالقيمة الأكثر تكرارًا)\n",
    "\n",
    "most_common_road = df['Road_Type'].mode()[0]\n",
    "df['Road_Type'] = df['Road_Type'].fillna(most_common_road)\n",
    "\n",
    "print(\"num of nulls :\", df['Road_Type'].isnull().sum())\n"
   ]
  },
  {
   "cell_type": "code",
   "execution_count": null,
   "metadata": {},
   "outputs": [],
   "source": [
    "# المخاطر (تعبئة ب\"لا يوجد خطر\")\n",
    "\n",
    "df['Carriageway_Hazards'] = df['Carriageway_Hazards'].fillna('No hazard')\n",
    "print(\"num of nulls :\", df['Carriageway_Hazards'].isnull().sum())\n",
    "\n"
   ]
  },
  {
   "cell_type": "code",
   "execution_count": null,
   "metadata": {},
   "outputs": [],
   "source": [
    "\n",
    "# استخراج الفصل من تاريخ الحادث\n",
    "def get_season(month, day):\n",
    "    if (month == 3 and day >= 21) or (4 <= month <= 6) or (month == 6 and day <= 20):\n",
    "        return 'Spring'\n",
    "    elif (month == 6 and day >= 21) or (7 <= month <= 9) or (month == 9 and day <= 20):\n",
    "        return 'Summer'\n",
    "    elif (month == 9 and day >= 21) or (10 <= month <= 12) or (month == 12 and day <= 20):\n",
    "        return 'Autumn'\n",
    "    else:\n",
    "        return 'Winter'\n",
    "\n",
    "# تطبيق دالة الفصول على البيانات\n",
    "df['Season'] = df['Accident Date'].apply(lambda x: get_season(x.month, x.day))\n",
    "\n",
    "# ملء القيم الفاضية بناءً على الفصل (من خلال الأكثر تكرارًا لكل فصل)\n",
    "df['Road_Surface_Conditions'] = df.groupby('Season')['Road_Surface_Conditions'].transform(lambda x: x.fillna(x.mode()[0]))\n",
    "\n",
    "# عرض الصفوف التي تحتوي على قيم مفقودة بعد التعبئة\n",
    "print(df[df['Road_Surface_Conditions'].isnull()])\n",
    "print(\"num of nulls :\", df['Road_Surface_Conditions'].isnull().sum())\n",
    "\n"
   ]
  },
  {
   "cell_type": "code",
   "execution_count": null,
   "metadata": {},
   "outputs": [],
   "source": [
    "# التأكد من عدم وجود قيم مفقودة\n",
    "print(df.isnull().sum())"
   ]
  },
  {
   "cell_type": "markdown",
   "metadata": {},
   "source": [
    "## **Handle Outliers**"
   ]
  },
  {
   "cell_type": "code",
   "execution_count": null,
   "metadata": {},
   "outputs": [],
   "source": [
    "#التعامل مع outliers\n",
    "Q1 = df['Number_of_Casualties'].quantile(0.25)\n",
    "Q3 = df['Number_of_Casualties'].quantile(0.75)\n",
    "IQR = Q3 - Q1\n",
    "\n",
    "# تحديد الـ outliers\n",
    "outliers = df[(df['Number_of_Casualties'] < (Q1 - 1.5 * IQR)) | (df['Number_of_Casualties'] > (Q3 + 1.5 * IQR))]\n",
    "\n",
    "print(\"عدد القيم الشاذة:\", len(outliers))\n",
    "print(outliers[['Accident_Index', 'Number_of_Casualties']])\n"
   ]
  },
  {
   "cell_type": "code",
   "execution_count": null,
   "metadata": {},
   "outputs": [],
   "source": [
    "# استبدال القيم الشاذة بالقيمة الوسيطة (Median)\n",
    "\n",
    "median_value = df['Number_of_Casualties'].median()\n",
    "df['Number_of_Casualties'] = df['Number_of_Casualties'].apply(lambda x: median_value if x in outliers['Number_of_Casualties'].values else x)\n"
   ]
  },
  {
   "cell_type": "code",
   "execution_count": null,
   "metadata": {},
   "outputs": [],
   "source": [
    "Q1_vehicles = df['Number_of_Vehicles'].quantile(0.25)\n",
    "Q3_vehicles = df['Number_of_Vehicles'].quantile(0.75)\n",
    "IQR_vehicles = Q3_vehicles - Q1_vehicles\n",
    "\n",
    "# استخراج القيم الشاذة بناءً على IQR لعمود Number_of_Vehicles\n",
    "outliers_vehicles = df[(df['Number_of_Vehicles'] < (Q1_vehicles - 1.5 * IQR_vehicles)) | (df['Number_of_Vehicles'] > (Q3_vehicles + 1.5 * IQR_vehicles))]\n",
    "\n",
    "# عرض القيم الشاذة في عمود Number_of_Vehicles\n",
    "print(\"عدد القيم الشاذة في Number_of_Vehicles:\", len(outliers_vehicles))\n",
    "print(outliers_vehicles[['Accident_Index', 'Number_of_Vehicles']])"
   ]
  },
  {
   "cell_type": "code",
   "execution_count": null,
   "metadata": {},
   "outputs": [],
   "source": [
    "# استبدال القيم الشاذة في Number_of_Vehicles بالقيمة الوسيطة (Median)\n",
    "median_vehicles = df['Number_of_Vehicles'].median()\n",
    "df['Number_of_Vehicles'] = df['Number_of_Vehicles'].apply(lambda x: median_vehicles if x in outliers_vehicles['Number_of_Vehicles'].values else x)\n",
    "\n"
   ]
  },
  {
   "cell_type": "markdown",
   "metadata": {},
   "source": [
    "# **Feature Engineering**"
   ]
  },
  {
   "cell_type": "markdown",
   "metadata": {},
   "source": [
    "**Create columns (Weekend - Peak Hours - Time Split)**"
   ]
  },
  {
   "cell_type": "markdown",
   "metadata": {},
   "source": [
    "## **Weekend**"
   ]
  },
  {
   "cell_type": "code",
   "execution_count": null,
   "metadata": {},
   "outputs": [],
   "source": [
    "# Create Weekend column\n",
    "df['Is_Weekend'] = df['Accident Date'].dt.dayofweek >= 5  # 5 = Saturday, 6 = Sunday\n"
   ]
  },
  {
   "cell_type": "markdown",
   "metadata": {},
   "source": [
    "## **Peak hours**"
   ]
  },
  {
   "cell_type": "code",
   "execution_count": null,
   "metadata": {},
   "outputs": [],
   "source": [
    "# Create Peak hour column\n",
    "\n",
    "def is_peak_hour(time):\n",
    "    # تحويل الوقت إلى ساعة\n",
    "    hour = time.hour\n",
    "    # ساعات الذروة من 7:00 AM إلى 9:00 AM ومن 4:00 PM إلى 6:00 PM\n",
    "    if (7 <= hour < 9) or (16 <= hour < 18):\n",
    "        return True\n",
    "    else:\n",
    "        return False\n",
    "\n",
    "# إضافة عمود 'is_peak_hour' بناءً على وقت الحادث\n",
    "df['is_peak_hour'] = df['Time'].apply(is_peak_hour)"
   ]
  },
  {
   "cell_type": "markdown",
   "metadata": {},
   "source": [
    "## **Time slot**"
   ]
  },
  {
   "cell_type": "code",
   "execution_count": null,
   "metadata": {},
   "outputs": [],
   "source": [
    "# دالة لتصنيف الساعة إلى فترات زمنية في اليوم:\n",
    "\n",
    "def get_time_slot(hour):\n",
    "    if 0 <= hour < 6:            # - Late Night: من منتصف الليل حتى 6 صباحًا\n",
    "        return 'Late Night'\n",
    "    elif 6 <= hour < 12:         # - Morning: من 6 صباحًا حتى 12 ظهرًا\n",
    "        return 'Morning'\n",
    "    elif 12 <= hour < 18:        # - Afternoon: من 12 ظهرًا حتى 6 مساءً\n",
    "        return 'Afternoon'\n",
    "    else:                        # - Evening: من 6 مساءً حتى منتصف الليل\n",
    "        return 'Evening'\n",
    "    \n",
    "# - Evening: من 6 مساءً حتى منتصف الليل\n",
    "df['Time Slot'] = df['Time'].dt.hour.apply(get_time_slot)"
   ]
  },
  {
   "cell_type": "markdown",
   "metadata": {},
   "source": [
    "# **More columns for easier visualization**"
   ]
  },
  {
   "cell_type": "markdown",
   "metadata": {},
   "source": [
    "## **تبسيط نوع المركبة**\n",
    "\n",
    "قمت بتبسيط القيم في عمود \"Vehicle_Type\" لتسهيل التحليل عن طريق تصنيف المركبات إلى فئات مثل \"Car\"، \"Motorcycle\"، و\"Bus\".\n"
   ]
  },
  {
   "cell_type": "code",
   "execution_count": null,
   "metadata": {},
   "outputs": [],
   "source": [
    "vehicle_map = {\n",
    "    'Car': 'Car',\n",
    "    'Taxi/Private hire car': 'Car',\n",
    "    'Van / Goods 3.5 tonnes mgw or under': 'Light Van',\n",
    "    'Goods over 3.5t. and under 7.5t': 'Medium Van',\n",
    "    'Goods 7.5 tonnes mgw and over': 'Heavy Van',\n",
    "    'Bus or coach (17 or more pass seats)': 'Bus',\n",
    "    'Minibus (8 - 16 passenger seats)': 'Minibus',\n",
    "    'Pedal cycle': 'Bicycle',\n",
    "    'Motorcycle 50cc and under': 'Motorcycle',\n",
    "    'Motorcycle 125cc and under': 'Motorcycle',\n",
    "    'Motorcycle over 125cc and up to 500cc': 'Motorcycle',\n",
    "    'Motorcycle over 500cc': 'Motorcycle',\n",
    "    'Agricultural vehicle': 'Agricultural vehicle',\n",
    "    'Ridden horse': 'Horse',\n",
    "    'Other vehicle': 'Other'\n",
    "}\n",
    "\n",
    "# إضافة عمود جديد فيه المسميات المبسطة\n",
    "df['Vehicle Class'] = df['Vehicle_Type'].map(vehicle_map)\n",
    "\n"
   ]
  },
  {
   "cell_type": "markdown",
   "metadata": {},
   "source": [
    "## **تبسيط حالة الطقس**\n",
    "\n",
    "قمت بتبسيط القيم في عمود \"Weather_Conditions\" لتصنيف حالات الطقس إلى فئات أبسط مثل \"Clear Weather\"، \"Rainy Weather\"، و\"Snowy Weather\".\n"
   ]
  },
  {
   "cell_type": "code",
   "execution_count": null,
   "metadata": {},
   "outputs": [],
   "source": [
    "# إنشاء دالة لتحويل القيم في عمود 'Weather_Conditions'\n",
    "weather_map = {\n",
    "    'Fine no high winds': 'Clear Weather',\n",
    "    'Raining no high winds': 'Rainy Weather',\n",
    "    'Raining + high winds': 'Rainy Weather',\n",
    "    'Snowing no high winds': 'Snowy Weather',\n",
    "    'Snowing + high winds': 'Snowy Weather',\n",
    "    'Fine + high winds': 'Windy Weather',\n",
    "    'Fog or mist': 'Foggy',\n",
    "    'Other': 'Other'\n",
    "    }\n",
    "\n",
    "# إضافة عمود جديد مع القيم المبسطة\n",
    "df['Weather'] = df['Weather_Conditions'].map(weather_map)\n"
   ]
  },
  {
   "cell_type": "markdown",
   "metadata": {},
   "source": [
    "## **تبسيط القيم في عمود 'Junction_Control'**\n",
    "\n",
    "تم استخدام قاموس لتبسيط القيم المختلفة في عمود 'Junction_Control' بحيث تسهل الفهم والتحليل، مع إضافة عمود جديد يعرض القيم المبسطة.\n"
   ]
  },
  {
   "cell_type": "code",
   "execution_count": null,
   "metadata": {},
   "outputs": [],
   "source": [
    "# إنشاء قاموس لتبسيط القيم في عمود 'Junction_Control'\n",
    "junction_control_map = {\n",
    "    'Give way or uncontrolled': 'Uncontrolled',\n",
    "    'Data missing or out of range': 'Unknown',\n",
    "    'Auto traffic signal': 'Traffic Signal',\n",
    "    'Not at junction or within 20 metres': 'Not at Junction',\n",
    "    'Stop sign': 'Stop Sign',\n",
    "    'Authorised person': 'Authorized Person'\n",
    "}\n",
    "\n",
    "# إضافة عمود جديد مع القيم المبسطة\n",
    "df['Junction_Control_Simplified'] = df['Junction_Control'].map(junction_control_map)\n",
    "\n",
    "# عرض القيم الجديدة بعد التبسيط\n",
    "print(df['Junction_Control_Simplified'].unique())\n"
   ]
  },
  {
   "cell_type": "markdown",
   "metadata": {},
   "source": [
    "## **تبسيط القيم في عمود 'Junction_Detail'**\n",
    "\n",
    "تم استخدام قاموس لتبسيط القيم المختلفة في عمود 'Junction_Detail' بحيث تسهل الفهم والتحليل، مع إضافة عمود جديد يعرض القيم المبسطة.\n"
   ]
  },
  {
   "cell_type": "code",
   "execution_count": null,
   "metadata": {},
   "outputs": [],
   "source": [
    "# إنشاء قاموس لتبسيط القيم في عمود 'Junction_Detail'\n",
    "junction_detail_map = {\n",
    "    'Not at junction or within 20 metres': 'No Junction',\n",
    "    'T or staggered junction': 'T-Junction',\n",
    "    'Crossroads': 'Crossroads',\n",
    "    'Roundabout': 'Roundabout',\n",
    "    'Private drive or entrance': 'Private Drive',\n",
    "    'Other junction': 'Other Junction',\n",
    "    'Slip road': 'Slip Road',\n",
    "    'More than 4 arms (not roundabout)': 'Multi-directional Junction',\n",
    "    'Mini-roundabout': 'Mini-Roundabout'\n",
    "}\n",
    "\n",
    "# إضافة عمود جديد مع القيم المبسطة\n",
    "df['Junction_Type'] = df['Junction_Detail'].map(junction_detail_map)\n",
    "\n",
    "# عرض القيم الجديدة بعد التبسيط\n",
    "print(df['Junction_Type'].unique())\n"
   ]
  },
  {
   "cell_type": "markdown",
   "metadata": {},
   "source": [
    "## **تبسيط القيم في عمود 'Light_Conditions'**\n",
    "\n",
    "تم استخدام قاموس لتبسيط القيم في عمود 'Light_Conditions' لتحسين وضوح البيانات وتسهيل التحليل، مع إضافة عمود جديد يعرض القيم المبسطة.\n"
   ]
  },
  {
   "cell_type": "code",
   "execution_count": null,
   "metadata": {},
   "outputs": [],
   "source": [
    "# إنشاء قاموس لتبسيط القيم في عمود 'Light_Conditions'\n",
    "light_conditions_map = {\n",
    "    'Daylight': 'Daylight',\n",
    "    'Darkness - lights lit': 'Lights Lit',\n",
    "    'Darkness - no lighting': 'No Lighting',\n",
    "    'Darkness - lighting unknown': 'Lighting Unknown',\n",
    "    'Darkness - lights unlit': 'Lights Unlit'\n",
    "}\n",
    "\n",
    "# إضافة عمود جديد مع القيم المبسطة\n",
    "df['Light Status'] = df['Light_Conditions'].map(light_conditions_map)\n",
    "\n",
    "# عرض القيم الجديدة بعد التبسيط\n",
    "print(df['Light Status'].unique())\n"
   ]
  },
  {
   "cell_type": "markdown",
   "metadata": {},
   "source": [
    "# **convert columns to categorical data**"
   ]
  },
  {
   "cell_type": "code",
   "execution_count": null,
   "metadata": {},
   "outputs": [],
   "source": [
    "# تحويل بعض الأعمدة إلى فئات (Categorical)\n",
    "cat_cols = ['Day_of_Week', 'Month', 'Accident_Severity', 'Weather', 'Vehicle Class',\n",
    "            'Road_Type', 'Junction_Control_Simplified', 'Junction_Type', 'Light Status',\n",
    "            'Season', 'Time Slot', 'is_peak_hour', 'Is_Weekend']\n",
    "for col in cat_cols:\n",
    "    df[col] = df[col].astype('category')\n"
   ]
  },
  {
   "cell_type": "markdown",
   "metadata": {},
   "source": [
    "# **EXPORT DATA**"
   ]
  },
  {
   "cell_type": "code",
   "execution_count": 52,
   "metadata": {},
   "outputs": [],
   "source": [
    "df.to_csv('Cleaned_Road_Accident_Data.csv', index=False)\n"
   ]
  }
 ],
 "metadata": {
  "kernelspec": {
   "display_name": "base",
   "language": "python",
   "name": "python3"
  },
  "language_info": {
   "codemirror_mode": {
    "name": "ipython",
    "version": 3
   },
   "file_extension": ".py",
   "mimetype": "text/x-python",
   "name": "python",
   "nbconvert_exporter": "python",
   "pygments_lexer": "ipython3",
   "version": "3.11.7"
  }
 },
 "nbformat": 4,
 "nbformat_minor": 2
}
